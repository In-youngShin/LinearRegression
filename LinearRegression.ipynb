{
  "nbformat": 4,
  "nbformat_minor": 0,
  "metadata": {
    "colab": {
      "provenance": [],
      "toc_visible": true
    },
    "kernelspec": {
      "name": "python3",
      "display_name": "Python 3"
    },
    "language_info": {
      "name": "python"
    }
  },
  "cells": [
    {
      "cell_type": "markdown",
      "source": [
        "\n",
        "# Before Starting this Tutorial...you need Requirements:\n",
        "* NumPy: A fundamental package for computing arrays and matrices, along with mathematical functions.\n",
        "* Pandas: A library for data manipulation and analysis, providing easy-to-use data structures like DataFrames.\n",
        "* Matplotlib: a python library for data visualization and plotting.\n",
        "\n",
        "\n",
        "\n"
      ],
      "metadata": {
        "id": "q9VtlpWbZ5yp"
      }
    },
    {
      "cell_type": "code",
      "source": [
        "!pip install numpy pandas matplotlib"
      ],
      "metadata": {
        "colab": {
          "base_uri": "https://localhost:8080/"
        },
        "id": "AHlX8soSZ_q8",
        "outputId": "0b633db1-b0de-4e17-8093-27bcdaeeed3e"
      },
      "execution_count": null,
      "outputs": [
        {
          "output_type": "stream",
          "name": "stdout",
          "text": [
            "Requirement already satisfied: numpy in /usr/local/lib/python3.10/dist-packages (1.23.5)\n",
            "Requirement already satisfied: pandas in /usr/local/lib/python3.10/dist-packages (1.5.3)\n",
            "Requirement already satisfied: matplotlib in /usr/local/lib/python3.10/dist-packages (3.7.1)\n",
            "Requirement already satisfied: python-dateutil>=2.8.1 in /usr/local/lib/python3.10/dist-packages (from pandas) (2.8.2)\n",
            "Requirement already satisfied: pytz>=2020.1 in /usr/local/lib/python3.10/dist-packages (from pandas) (2023.3.post1)\n",
            "Requirement already satisfied: contourpy>=1.0.1 in /usr/local/lib/python3.10/dist-packages (from matplotlib) (1.2.0)\n",
            "Requirement already satisfied: cycler>=0.10 in /usr/local/lib/python3.10/dist-packages (from matplotlib) (0.12.1)\n",
            "Requirement already satisfied: fonttools>=4.22.0 in /usr/local/lib/python3.10/dist-packages (from matplotlib) (4.46.0)\n",
            "Requirement already satisfied: kiwisolver>=1.0.1 in /usr/local/lib/python3.10/dist-packages (from matplotlib) (1.4.5)\n",
            "Requirement already satisfied: packaging>=20.0 in /usr/local/lib/python3.10/dist-packages (from matplotlib) (23.2)\n",
            "Requirement already satisfied: pillow>=6.2.0 in /usr/local/lib/python3.10/dist-packages (from matplotlib) (9.4.0)\n",
            "Requirement already satisfied: pyparsing>=2.3.1 in /usr/local/lib/python3.10/dist-packages (from matplotlib) (3.1.1)\n",
            "Requirement already satisfied: six>=1.5 in /usr/local/lib/python3.10/dist-packages (from python-dateutil>=2.8.1->pandas) (1.16.0)\n"
          ]
        }
      ]
    },
    {
      "cell_type": "markdown",
      "source": [
        "# Problem: Can we implement a predictive model for James Harden's performance in NBA games with the data in the reddit?"
      ],
      "metadata": {
        "id": "njaA8jBPAL6A"
      }
    },
    {
      "cell_type": "markdown",
      "source": [
        "It all began with this Reddit post: https://www.reddit.com/r/nba/comments/dt0ucg/i_analyzed_james_hardens_performance_in_every_nba/. James Harden, a renowned NBA player, carried a bit of a reputation for his (alleged) affinity for strip clubs. Someone on Reddit got curious whether Harden's off-court preferences affected his game. So this person gathered data on the average ratings of strip clubs and James Harden's performance scores in various cities. Surprisingly, a correlation emerged between these two variables (see the link above for more details).\n",
        "\n",
        "This analysis merely implies a correlation, so the causality remains uncertain. However, given the results from the reddit post, could we develop a predictive model to forecast James Harden's performance? What algrothirms can we employ to develop models? If so, can we place trust in the reliability of this model, or might there be overlooked factors influencing the outcomes?\n",
        "\n"
      ],
      "metadata": {
        "id": "FFNTQWet8mNe"
      }
    },
    {
      "cell_type": "markdown",
      "source": [
        "## Framing this problem with AI\n",
        "\n",
        "### What would be an appropriate implementation choice?\n",
        "\n",
        "The goal of this problem is to develop predictive model. A linear regression, neural networks, or other machine learning algorithms would be appicable. The reddit post was based on the linear regression anlaysis, I contuned this framework to simplify the problem.\n",
        "With a linaer model, gradient Descent would be the optimization method for training the model. This iterative optimization algorithm helps in minimizing the prediction error by adjusting model parameters.\n",
        "\n",
        "### What parameters would be needed?\n",
        "Any features that could impact James Harden's performance become input parameters in this scenario. The primary input feature in this context is strip club ratings. City-specific performance scores serve as a target, offering a basis for comparison with the model's predicted outcome. Weights and biases, assigned to the features, constitute additional parameter aspects. Other parameters relevant to Gradient Descent, such as learning rate and convergence criteria, are crucial considerations as well.\n",
        "\n",
        "### What would be State/Action Representations?\n",
        "The state might represent the combination of factors influencing James Harden's performance, such as the city he's playing in, the strip club ratings, and possibly other external factors."
      ],
      "metadata": {
        "id": "huRZ9qxKIkEe"
      }
    },
    {
      "cell_type": "markdown",
      "source": [
        "## Data which will be used for the train the model\n",
        "The Reddit user shared the dataset used for analysis (https://docs.google.com/spreadsheets/d/1hwDoaHcXqncb_l24NrxLCWTxE5pLaeKlU8r1Jnp39GQ/edit#gid=1286628669). Specifically, the user compiled data on City Strip Club Ratings, indicating the average Google review rating for the first 10 strip clubs in each city. The analysis also involved James Harden's performance statistics, including points scored, field goals, etc., spanning three seasons from 2015 to 2019. For this tutorial, I utilized the same dataset, averaging James Harden's points scored for each season over the three-year period.\n",
        "\n",
        "Let's explore the data. I will use pand, the pathon libary for basic statistics."
      ],
      "metadata": {
        "id": "nfWdsCG7fTo-"
      }
    },
    {
      "cell_type": "code",
      "source": [
        "import pandas as pd"
      ],
      "metadata": {
        "id": "olnGe5JRid5b"
      },
      "execution_count": null,
      "outputs": []
    },
    {
      "cell_type": "code",
      "source": [
        "# Let's import data first. Data is stored in CVS file.\n",
        "file_path = 'redditdata.csv'\n",
        "data = pd.read_csv(file_path)"
      ],
      "metadata": {
        "id": "cu56gAcli15G"
      },
      "execution_count": null,
      "outputs": []
    },
    {
      "cell_type": "markdown",
      "source": [
        "Data is imported with Dataframe, which is similar to excel sheet. Let's see the dataframe with the first 10 row."
      ],
      "metadata": {
        "id": "uF6dH9xnjSyB"
      }
    },
    {
      "cell_type": "code",
      "source": [
        "first_5_rows = data.head()\n",
        "print(first_5_rows)"
      ],
      "metadata": {
        "colab": {
          "base_uri": "https://localhost:8080/"
        },
        "id": "irbBzzcfjobM",
        "outputId": "cf44af8e-c077-4ae9-ffda-eedd618202ec"
      },
      "execution_count": null,
      "outputs": [
        {
          "output_type": "stream",
          "name": "stdout",
          "text": [
            "   club_rating  points_scored\n",
            "0         4.03      33.000000\n",
            "1         3.95      26.666667\n",
            "2         3.95      29.625000\n",
            "3         3.91      29.750000\n",
            "4         3.87      37.000000\n"
          ]
        }
      ]
    },
    {
      "cell_type": "markdown",
      "source": [
        "Let's explore the basis statistics including the number of cases, means, standard diviation, min, max, and more."
      ],
      "metadata": {
        "id": "6AmtBJo3ki04"
      }
    },
    {
      "cell_type": "code",
      "source": [
        "basic_stats = data.describe()\n",
        "print(basic_stats)"
      ],
      "metadata": {
        "colab": {
          "base_uri": "https://localhost:8080/"
        },
        "id": "bGfUoLBXklWF",
        "outputId": "6c0b8ea6-d622-4234-b6c3-7ed1a59fb932"
      },
      "execution_count": null,
      "outputs": [
        {
          "output_type": "stream",
          "name": "stdout",
          "text": [
            "       club_rating  points_scored\n",
            "count    23.000000      23.000000\n",
            "mean      3.654783      30.701087\n",
            "std       0.252476       4.387548\n",
            "min       2.970000      22.666667\n",
            "25%       3.515000      27.333333\n",
            "50%       3.690000      30.000000\n",
            "75%       3.845000      34.000000\n",
            "max       4.030000      38.750000\n"
          ]
        }
      ]
    },
    {
      "cell_type": "markdown",
      "source": [
        "Visualize the overall data. For visualization, I  utilize the Matplotlib library."
      ],
      "metadata": {
        "id": "AcEkyVfUlHX7"
      }
    },
    {
      "cell_type": "code",
      "source": [
        "import matplotlib.pyplot as plt\n",
        "\n",
        "x = data['club_rating']\n",
        "y = data['points_scored']\n",
        "\n",
        "# Plotting a scatter plot\n",
        "plt.scatter(x, y, alpha=0.5, color='blue')\n",
        "plt.title('Scatter Plot: Club Rating vs. Scores')\n",
        "plt.xlabel('Club Rating')\n",
        "plt.ylabel('Scores')\n",
        "plt.show()"
      ],
      "metadata": {
        "colab": {
          "base_uri": "https://localhost:8080/",
          "height": 472
        },
        "id": "7rJ3kdlHlGoj",
        "outputId": "b4af696c-9f11-46c1-8f33-e10ea28f3173"
      },
      "execution_count": null,
      "outputs": [
        {
          "output_type": "display_data",
          "data": {
            "text/plain": [
              "<Figure size 640x480 with 1 Axes>"
            ],
            "image/png": "[encoded data removed]"
          },
          "metadata": {}
        }
      ]
    },
    {
      "cell_type": "markdown",
      "source": [
        "## Data Proceeding\n",
        "\n",
        "To implement the model, data will be processed using NumPy. NumPy provides convenient and optimized methods for computing arrays and matrices, making it easier to implement algorithms within the context of machine learning workflows. Its efficient array operations and numerical capabilities are particularly valuable in handling the mathematical computations essential for model development"
      ],
      "metadata": {
        "id": "KCMHQ44AQ6ez"
      }
    },
    {
      "cell_type": "code",
      "source": [
        "import numpy as np\n",
        "\n",
        "x = np.array(data['club_rating'])\n",
        "y = np.array(data['points_scored'])"
      ],
      "metadata": {
        "id": "1Z6cABY0cE7s"
      },
      "execution_count": null,
      "outputs": []
    },
    {
      "cell_type": "markdown",
      "source": [
        "## Details on Algorithims to solve this problems\n"
      ],
      "metadata": {
        "id": "pC_rKYVKUB3h"
      }
    },
    {
      "cell_type": "markdown",
      "source": [
        "### Linear Regression\n",
        "Linear Regression assumes a linear relationship between the input features and the target variable. Given that the analysis from the Reddit post suggests a linear relationship between strip club ratings and James Harden's performance, my initial approach would be to apply this algorithm to the problem. Linear Regression offers easily interpretable results, allowing for a straightforward understanding of the impact of cities on James Harden's performance.\n",
        "\n",
        "This model provides insights into how cities influence Harden's performance, and its simplicity and computational efficiency make it a suitable choice for grasping concepts like gradient descent. However, please note that this model depends on the assumption of a linear relationship between input features and the target variable, as I mentioned above. If the relationship between strip club ratings and James Harden's performance is nonlinear, the application of this algorithm may not yield successful results.\n",
        "\n",
        "Readers of this tutorial should bear in mind that Linear Regression provides valuable insights but it might not be the optimal model for this specific problem if the relationship is not linear. Further exploration and consideration of alternative models may be necessary for a more accurate prediction.\n",
        "\n",
        "The basic framework of the model is as follows:\n",
        "\n",
        "𝑓(𝑥𝑖,𝑤,𝑏)=𝑤⋅𝑥𝑖+𝑏\n",
        "\n",
        "Here,  𝑥𝑖  is an input feature,  𝑤  is weight (a slope of line), and  𝑏  is the bias.\n",
        "\n",
        "For the specific example I provided here:\n",
        "\n",
        "f{club rating, w, b}=𝑤⋅club rating+𝑏\n",
        "\n",
        "In simple terms, I'm looking for a straight line that minimizes the distances between the line and the data points. Run the code for visualization."
      ],
      "metadata": {
        "id": "fqElW-zfWNHr"
      }
    },
    {
      "cell_type": "code",
      "source": [
        "import matplotlib.pyplot as plt\n",
        "import numpy as np\n",
        "\n",
        "x = data['club_rating'].values\n",
        "y = data['points_scored'].values\n",
        "\n",
        "m = 6  # Slope\n",
        "b = 10  # Intercept\n",
        "\n",
        "\n",
        "y_straight_line = m * x + b\n",
        "\n",
        "\n",
        "plt.scatter(x, y, alpha=0.5, label='Actual Data', color='blue')\n",
        "plt.plot(x, y_straight_line, label='Straight Line', color='red')\n",
        "\n",
        "plt.title('Scatter Plot with Straight Line')\n",
        "plt.xlabel('Club rating')\n",
        "plt.ylabel('Points Scored')\n",
        "plt.legend()\n",
        "plt.show()"
      ],
      "metadata": {
        "colab": {
          "base_uri": "https://localhost:8080/",
          "height": 472
        },
        "id": "gJ7mJFPWvLeU",
        "outputId": "8914bf60-74e0-42fb-e5cd-21c6f7099ce4"
      },
      "execution_count": null,
      "outputs": [
        {
          "output_type": "display_data",
          "data": {
            "text/plain": [
              "<Figure size 640x480 with 1 Axes>"
            ],
            "image/png": "[encoded data removed]"
          },
          "metadata": {}
        }
      ]
    },
    {
      "cell_type": "markdown",
      "source": [
        "### Loss Function\n",
        "\n",
        "The goal of this task is identify the optimal weights and bias parameters that minimize the differences  between predicted outcome from the model and the actual target value. The loss function quantifies the error or discrepancy in the model's predictions, providing a numerical representation of how well or poorly the model is performing. By adjusting the weights and biases during the training process, the model aims to minimize this loss, ultimately refining its ability to accurately predict James Harden's points socre in a game based on the input features, such as the average rating fo strip clubs in a city.\n",
        "\n",
        "Depending on what tasks woking one, different types of loss funcation can be used. In this contex, James' performances is quanitied with points scored with numbers. Since the target is the outcomes in this case, mean square error is used as the function. Let's notate the loss function as  $J$\n",
        "\n",
        "$$MSE = \\frac{1}{n} \\sum_{i=1}^{n} (y_i - \\hat{y}_i)^2$$\n",
        "\n",
        "$$J(w,b) = \\frac{1}{2n} \\sum_{i=1}^{n} (y_i - f(x_i, w,b))^2$$\n",
        "\n",
        "\n",
        "\n",
        "* $n$:  the number of data points or observations\n",
        "* $y_i$:the actual target value for the i-th observation\n",
        "* $\\hat{y}_i$ : the predicted value for the i-th observation\n",
        "\n"
      ],
      "metadata": {
        "id": "waa1E-5PeYJ_"
      }
    },
    {
      "cell_type": "markdown",
      "source": [
        "Let's implement a Mean Squared Error (MSE) loss function for linear regression in Python."
      ],
      "metadata": {
        "id": "ZG6_sLlnlooY"
      }
    },
    {
      "cell_type": "code",
      "source": [
        "\n",
        "def mse_loss_function(x, y, w, b):\n",
        "    \"\"\"\n",
        "    x is np.array including all cases of input feature\n",
        "    y is np.array of target values of all cases\n",
        "    w is a weight parameter\n",
        "    b is a bias parameter\n",
        "    \"\"\"\n",
        "    n = x.shape[0]  # number of cases (examples)\n",
        "    loss_sum = 0\n",
        "\n",
        "    for i in range(n):\n",
        "        y_pred = w * x[i] + b\n",
        "        loss = (y_pred - y[i]) ** 2\n",
        "        loss_sum += loss\n",
        "\n",
        "    total_loss = (1 / (2 * n)) * loss_sum\n",
        "\n",
        "    return total_loss\n"
      ],
      "metadata": {
        "id": "nl1kIP74cwst"
      },
      "execution_count": null,
      "outputs": []
    },
    {
      "cell_type": "markdown",
      "source": [
        "### Gradient Descent\n",
        "\n",
        "Gradient Descent follows the slope downward in the curve, aiming to minimize a given task by seeking the lowest points in the loss function. It serves as an iterative method to adjust parameters, effectively reducing the loss function. The algorithm begins with an initial set of parameters, comprising weights and biases for the model. Calculating the gradient of the loss function with respect to each parameter reveals the direction leading to the steepest decrease in the loss.\n",
        "\n",
        "The primary task involves adjusting the parameters (weights and bias) in the direction of the gradient descent to diminish the value of the loss function. The step size in moving towards the optimal point is determined by the learning rate. Updating parameters is achieved by subtracting the result from the current parameter values.\n",
        "\n",
        "### Gradient Decents for the loss function in Linear Regression\n",
        "\n",
        "The gradient is the straight slope intersecting with the curve or loss function. We can obtain it through\n",
        "the partial derivative of the loss function with repsect to the parameters. It indeed quantifies how much the loss function changes concerning a small change in the parameters.You might need to recall Calculus 101, the way to obtain the partial derivative for the equation.\n",
        "\n",
        "In our case(linear regression), the loss function is given as follow:\n",
        "\n",
        "$$J(w,b) = \\frac{1}{n} \\sum_{i=1}^{n} (y_i - f(x_i, w,b))^2 = \\frac{1}{n} \\sum_{i=1}^{n}(y_i - (w \\cdot x_i+b))^2$$\n",
        "\n",
        "Partial derivative with respect to $w$:\n",
        "$$\\frac{\\partial J(w, b)}{\\partial w} = -\\frac{2}{n} \\sum_{i=1}^{n} x_i(y_i - (w \\cdot x_i + b))$$\n",
        "\n",
        "Partial derivative with respect to $b$:\n",
        "$$\\frac{\\partial J(w, b)}{\\partial b} = -\\frac{2}{n} \\sum_{i=1}^{n} (y_i - (w \\cdot x_i + b))$$\n",
        "\n",
        "\n",
        "\n",
        "\n"
      ],
      "metadata": {
        "id": "6YhWE18H0-nN"
      }
    },
    {
      "cell_type": "markdown",
      "source": [
        "Let's implement the function to obtain gradients with respect to $w$ and $b$ in Python."
      ],
      "metadata": {
        "id": "kdZX42hHnXVu"
      }
    },
    {
      "cell_type": "code",
      "source": [
        "## Gradient Descent\n",
        "## Will return gradients\n",
        "\n",
        "def gradient_descent(x, y, w, b):\n",
        "    \"\"\"\n",
        "    x is np.array including all cases of input feature\n",
        "    y is np.array of target values of all cases\n",
        "    w is a weight parameter\n",
        "    b is a bias parameter\n",
        "    \"\"\"\n",
        "\n",
        "    n = x.shape[0] # number of cases (examples)\n",
        "    w_gradient = 0\n",
        "    b_gradient = 0\n",
        "\n",
        "    for i in range(n):\n",
        "        y_pred = w * x[i] + b\n",
        "        dj_dw_i = (y_pred - y[i]) * x[i]\n",
        "        dj_db_i = y_pred - y[i]\n",
        "\n",
        "        w_gradient += dj_dw_i\n",
        "        b_gradient += dj_db_i\n",
        "\n",
        "    w_gradient /= n\n",
        "    b_gradient /= n\n",
        "\n",
        "    return w_gradient, b_gradient\n",
        "\n",
        "\n"
      ],
      "metadata": {
        "id": "v0cv5ETZeGGz"
      },
      "execution_count": null,
      "outputs": []
    },
    {
      "cell_type": "markdown",
      "source": [
        "### Updating parameters with Gradient Descent\n",
        "\n",
        "We have learned the algorithm to determine the direction for decreasing the loss. Using gradient descent, we initialize the model parameters (w and b in our case) with random numbers and iteratively update these parameters to find the optimal values that minimize the loss function.\n",
        "\n",
        "As mentioned earlier, the gradient of the loss function points toward lower values of the loss, but it doesn't specify the actual distance to move. We determine how much to update the parameter by moving in the opposite direction of the gradient, and the step size of this update is controlled by the learning rate. The learning rate defines the magnitude of the update, influencing how far we move along the gradient in each iteration.\n",
        "\n",
        "Here is the formular to update the parameters.\n",
        "\n",
        "$$\\theta= \\theta - \\alpha \\cdot \\nabla J(\\theta)$$\n",
        "\n",
        "*   $Θ$: the parameter being updated. In our case, it would be either $w$ or $b$.\n",
        "*   $α$: the learning rate\n",
        "*   $\\nabla J(\\theta)$: the gradient of the loss function with respect to the parameter\n",
        "\n",
        "In the case of linear regrsesion, we can update as follow.\n",
        "\n",
        "$$\\text{Repeat until converging:} \\\\\n",
        "\\hspace{1em} w \\leftarrow w - \\alpha \\frac{\\partial J(w, b)}{\\partial w} \\\\\n",
        "\\hspace{1em} b \\leftarrow b - \\alpha \\frac{\\partial J(w, b)}{\\partial b}$$"
      ],
      "metadata": {
        "id": "TOMJwjMkE6wn"
      }
    },
    {
      "cell_type": "markdown",
      "source": [
        "Let's implement the function to update parameters of linear regression in Python.\n",
        "\n"
      ],
      "metadata": {
        "id": "YGW4aW1jrwPN"
      }
    },
    {
      "cell_type": "code",
      "source": [
        "def update_parameters(x, y, w, b, alpha, num_iters):\n",
        "    \"\"\"\n",
        "    x is np.array including all cases of input feature\n",
        "    y is np.array of target values of all cases\n",
        "    w is a weight parameter\n",
        "    b is a bias parameter\n",
        "    alpha is a learning rate\n",
        "    num_iters is the number of iterations for updating\n",
        "    \"\"\"\n",
        "\n",
        "    loss_history=[]\n",
        "    parameters_history=[]\n",
        "\n",
        "    for i in range(num_iters):\n",
        "        w_gradient, b_gradient = gradient_descent(x, y, w, b)\n",
        "\n",
        "        # Print gradients for monitoring\n",
        "\n",
        "        # Update parameters\n",
        "        w = w - alpha * w_gradient\n",
        "        b = b - alpha * b_gradient\n",
        "\n",
        "         # to keep tracking of loss values\n",
        "\n",
        "        loss_history.append(mse_loss_function(x, y, w,b))\n",
        "        parameters_history.append([w,b])\n",
        "\n",
        "    return w, b, loss_history, parameters_history\n",
        "\n",
        "\n",
        "\n",
        "\n"
      ],
      "metadata": {
        "id": "aExLdZXdWCSO"
      },
      "execution_count": null,
      "outputs": []
    },
    {
      "cell_type": "markdown",
      "source": [
        "## Training the model\n",
        "It's time to find the optimal weight and bias by integrating all implementations."
      ],
      "metadata": {
        "id": "IVyL2zq7seTp"
      }
    },
    {
      "cell_type": "code",
      "source": [
        "## initial value (staring with 0)\n",
        "w_inital=0\n",
        "b_inital=0\n",
        "\n",
        "#Decide learning rates and # number of interations\n",
        "learning_rate=0.01\n",
        "num_iters = 100\n",
        "\n",
        "\n",
        "w_optimal, b_optimal, loss_history, parameters_history = update_parameters(x, y, w_inital, b_inital, learning_rate, num_iters)\n",
        "\n",
        "print(\"Optimal Weight:\", w_optimal)\n",
        "print(\"Optimal Bias:\", b_optimal)"
      ],
      "metadata": {
        "colab": {
          "base_uri": "https://localhost:8080/"
        },
        "id": "DXKkCk2wR6bC",
        "outputId": "eb8e2be7-c9eb-4cda-d511-4352d0da6dbe"
      },
      "execution_count": null,
      "outputs": [
        {
          "output_type": "stream",
          "name": "stdout",
          "text": [
            "Optimal Weight: 7.736811851600071\n",
            "Optimal Bias: 2.2721684609133335\n"
          ]
        }
      ]
    },
    {
      "cell_type": "markdown",
      "source": [
        "Check how the model was trained."
      ],
      "metadata": {
        "id": "H_JF2kywLOnJ"
      }
    },
    {
      "cell_type": "code",
      "source": [
        "import math\n",
        "\n",
        "for i in range (num_iters):\n",
        "    if i% math.ceil(num_iters/5) == 0:\n",
        "        print(f\"Iteration {i}: Cost {loss_history[i]} \",\n",
        "          f\"w: {parameters_history[i][0]}, b:{parameters_history[i][1]}\")"
      ],
      "metadata": {
        "colab": {
          "base_uri": "https://localhost:8080/"
        },
        "id": "gQeHM9-9LLN7",
        "outputId": "bc22ab3d-6fe3-431b-df9d-fd19e6406889"
      },
      "execution_count": null,
      "outputs": [
        {
          "output_type": "stream",
          "name": "stdout",
          "text": [
            "Iteration 0: Cost 355.1763602625152  w: 1.120784420306261, b:0.3070108695695652\n",
            "Iteration 20: Cost 12.726902827600725  w: 7.473675750625637, b:2.0707972456964425\n",
            "Iteration 40: Cost 12.044757895761455  w: 7.748202903920325, b:2.178464862562739\n",
            "Iteration 60: Cost 12.038398501103643  w: 7.752451027943868, b:2.2124653538638155\n",
            "Iteration 80: Cost 12.033383809303517  w: 7.744687423243699, b:2.2431653949744255\n"
          ]
        }
      ]
    },
    {
      "cell_type": "code",
      "source": [
        "plt.plot(loss_history)\n",
        "plt.title('Loss vs. Iteration')\n",
        "plt.ylabel('Loss')\n",
        "plt.xlabel('Iteration step')\n",
        "plt.show"
      ],
      "metadata": {
        "colab": {
          "base_uri": "https://localhost:8080/",
          "height": 490
        },
        "id": "UPlMBfg2LZPJ",
        "outputId": "ab0c3130-db66-4d2e-cdd3-14a73d1b2655"
      },
      "execution_count": null,
      "outputs": [
        {
          "output_type": "execute_result",
          "data": {
            "text/plain": [
              "<function matplotlib.pyplot.show(close=None, block=None)>"
            ]
          },
          "metadata": {},
          "execution_count": 24
        },
        {
          "output_type": "display_data",
          "data": {
            "text/plain": [
              "<Figure size 640x480 with 1 Axes>"
            ],
            "image/png": "[encoded data removed]"
          },
          "metadata": {}
        }
      ]
    },
    {
      "cell_type": "markdown",
      "source": [
        "Now that we have obtained the values for weight and bias, can we ensure that these are optimal values that lead the model to predict James Harden's performance correctly? How can we quantify the quality of the trained model? In linear regression, R-squared is typically used to quantify the quality of model training. R-squared can be computed with the following formula:\n",
        "\n",
        "$$R^2 = 1 - \\frac{\\sum_{i=1}^{n} (y_i - \\hat{y}_i)^2}{\\sum_{i=1}^{n} (y_i - \\bar{y})^2}$$\n",
        "\n",
        "\n",
        "\n",
        "We can check our model's R-squared value. If it is close to 1, we can say our model predicts the score accurately."
      ],
      "metadata": {
        "id": "li-Xpc-cBV6O"
      }
    },
    {
      "cell_type": "code",
      "source": [
        "#-rsquare\n",
        "def calculate_r_squared(w, b, input_feature, target):\n",
        "    \"\"\"\n",
        "    Parameters:\n",
        "    w (float): weight we obtained after the trainidng\n",
        "    b(float): weight we obtained after the trainidng\n",
        "    input_feature (np.array): Array of input feature.\n",
        "    target (np.array): Array of actual target values.\n",
        "\n",
        "    Returns:\n",
        "    float: R-squared value.\n",
        "    \"\"\"\n",
        "\n",
        "    predicted = w*input_feature + b\n",
        "\n",
        "    mean_actual = np.mean(target)\n",
        "    numerator = np.sum((target- predicted) ** 2)\n",
        "    denominator = np.sum((target - mean_actual) ** 2)\n",
        "\n",
        "    r_squared = 1 - (numerator / denominator)\n",
        "\n",
        "    return r_squared\n"
      ],
      "metadata": {
        "id": "vEwtK-ZNCGEq"
      },
      "execution_count": null,
      "outputs": []
    },
    {
      "cell_type": "code",
      "source": [
        "r_squared_value = calculate_r_squared(w_optimal, b_optimal,x, y)\n",
        "print(r_squared_value)"
      ],
      "metadata": {
        "colab": {
          "base_uri": "https://localhost:8080/"
        },
        "id": "gjTk1EfoJWO-",
        "outputId": "a625f91f-945b-4883-905c-6574ce743de2"
      },
      "execution_count": null,
      "outputs": [
        {
          "output_type": "stream",
          "name": "stdout",
          "text": [
            "-0.3064945028464854\n"
          ]
        }
      ]
    },
    {
      "cell_type": "markdown",
      "source": [
        "It's quite disappointing. The R-squared value is not even close to 1; in fact, it's a negative value. How can we fix this? How can we improve the model? One nex approach is to increase the number of iterations and observe how the model performs. Let's do with 1000.\n"
      ],
      "metadata": {
        "id": "ZiYa_FsPKJRI"
      }
    },
    {
      "cell_type": "code",
      "source": [
        "#interactions with 1000\n",
        "new_num_iters = 1000\n",
        "\n",
        "new_w_optimal, new_b_optimal, new_loss_history, new_parameters_history = update_parameters(x, y, w_inital, b_inital, learning_rate, new_num_iters)\n",
        "\n",
        "print(\"Optimal Weight:\", new_w_optimal)\n",
        "print(\"Optimal Bias:\", new_b_optimal)"
      ],
      "metadata": {
        "colab": {
          "base_uri": "https://localhost:8080/"
        },
        "id": "B-PcHK4EKYzH",
        "outputId": "df4acaa8-fe37-4b19-d07a-f906b11f0bf3"
      },
      "execution_count": null,
      "outputs": [
        {
          "output_type": "stream",
          "name": "stdout",
          "text": [
            "Optimal Weight: 7.369772517235999\n",
            "Optimal Bias: 3.619321277620007\n"
          ]
        }
      ]
    },
    {
      "cell_type": "code",
      "source": [
        "for i in range (num_iters):\n",
        "    if i% math.ceil(num_iters/10) == 0:\n",
        "        print(f\"Iteration {i}: Cost {loss_history[i]} \",\n",
        "          f\"w: {new_parameters_history[i][0]}, b:{new_parameters_history[i][1]}\")"
      ],
      "metadata": {
        "colab": {
          "base_uri": "https://localhost:8080/"
        },
        "id": "ekqBp-k-LCpv",
        "outputId": "8c254b96-ef62-4767-a0c6-ba02706155f5"
      },
      "execution_count": null,
      "outputs": [
        {
          "output_type": "stream",
          "name": "stdout",
          "text": [
            "Iteration 0: Cost 355.1763602625152  w: 1.120784420306261, b:0.3070108695695652\n",
            "Iteration 10: Cost 27.308559902331055  w: 6.370046343785628, b:1.7536601776523306\n",
            "Iteration 20: Cost 12.726902827600725  w: 7.473675750625637, b:2.0707972456964425\n",
            "Iteration 30: Cost 12.076098704858447  w: 7.703110114175876, b:2.1497470771514613\n",
            "Iteration 40: Cost 12.044757895761455  w: 7.748202903920325, b:2.178464862562739\n",
            "Iteration 50: Cost 12.040964705758041  w: 7.7544246696454335, b:2.1965850282451864\n",
            "Iteration 60: Cost 12.038398501103643  w: 7.752451027943868, b:2.2124653538638155\n",
            "Iteration 70: Cost 12.03588888415947  w: 7.748750596602785, b:2.2278682604981777\n",
            "Iteration 80: Cost 12.033383809303517  w: 7.744687423243699, b:2.2431653949744255\n",
            "Iteration 90: Cost 12.03088096051727  w: 7.740549146273563, b:2.258435129234017\n"
          ]
        }
      ]
    },
    {
      "cell_type": "code",
      "source": [
        "plt.plot(new_loss_history)\n",
        "plt.title('Loss vs. Iteration')\n",
        "plt.ylabel('Loss')\n",
        "plt.xlabel('Iteration step')\n",
        "plt.show"
      ],
      "metadata": {
        "colab": {
          "base_uri": "https://localhost:8080/",
          "height": 490
        },
        "id": "VBolW4SluX9H",
        "outputId": "73c2c446-0157-4337-d66c-d357e8943883"
      },
      "execution_count": null,
      "outputs": [
        {
          "output_type": "execute_result",
          "data": {
            "text/plain": [
              "<function matplotlib.pyplot.show(close=None, block=None)>"
            ]
          },
          "metadata": {},
          "execution_count": 45
        },
        {
          "output_type": "display_data",
          "data": {
            "text/plain": [
              "<Figure size 640x480 with 1 Axes>"
            ],
            "image/png": "[encoded data removed]"
          },
          "metadata": {}
        }
      ]
    },
    {
      "cell_type": "markdown",
      "source": [
        "The scale is too large; let's divide and plot the results at the end of the iterations."
      ],
      "metadata": {
        "id": "l0wjVqDGMho5"
      }
    },
    {
      "cell_type": "code",
      "source": [
        "fig, (ax1, ax2) = plt.subplots(1, 2, figsize=(12,4))\n",
        "ax1.plot(loss_history[:900])\n",
        "ax2.plot(900 + np.arange(len(new_loss_history[900:])), new_loss_history[900:])\n",
        "\n",
        "\n",
        "ax1.set_title(\"loss vs. iteration(start)\")\n",
        "ax2.set_title(\"loss vs. iteration (end)\")\n",
        "ax1.set_ylabel('Cost')            ;  ax2.set_ylabel('Cost')\n",
        "ax1.set_xlabel('iteration step')  ;  ax2.set_xlabel('iteration step')\n",
        "plt.show()\n"
      ],
      "metadata": {
        "colab": {
          "base_uri": "https://localhost:8080/",
          "height": 263
        },
        "id": "Sn9HJ9A4xo6l",
        "outputId": "022ae28b-d388-4fd1-9e17-ff79d87ca66a"
      },
      "execution_count": null,
      "outputs": [
        {
          "output_type": "display_data",
          "data": {
            "text/plain": [
              "<Figure size 1200x400 with 2 Axes>"
            ],
            "image/png": "[encoded data removed]"
          },
          "metadata": {}
        }
      ]
    },
    {
      "cell_type": "code",
      "source": [
        "new_r_squared_value = calculate_r_squared(new_w_optimal, new_b_optimal,x, y)\n",
        "print(new_r_squared_value)"
      ],
      "metadata": {
        "colab": {
          "base_uri": "https://localhost:8080/"
        },
        "id": "eGPk0FBpKgju",
        "outputId": "a7770d7a-0bfb-4615-dd29-816a39bb8baf"
      },
      "execution_count": null,
      "outputs": [
        {
          "output_type": "stream",
          "name": "stdout",
          "text": [
            "-0.28296439027610054\n"
          ]
        }
      ]
    },
    {
      "cell_type": "markdown",
      "source": [
        "\n",
        "It is still disappointing. Let's try using a very large number of iterations. How about 1,000,000?"
      ],
      "metadata": {
        "id": "T0t59prDM_IL"
      }
    },
    {
      "cell_type": "code",
      "source": [
        "#interactions with  1000000\n",
        "large_num_iters =  1000000\n",
        "\n",
        "large_w_optimal, large_b_optimal, large_loss_history, large_parameters_history = update_parameters(x, y, w_inital, b_inital, learning_rate, large_num_iters)\n",
        "\n",
        "print(\"Optimal Weight:\", large_w_optimal)\n",
        "print(\"Optimal Bias:\", large_b_optimal)\n"
      ],
      "metadata": {
        "id": "IpD4w76RNO5M"
      },
      "execution_count": null,
      "outputs": []
    },
    {
      "cell_type": "code",
      "source": [
        "for i in range (num_iters):\n",
        "    if i% math.ceil(num_iters/10) == 0:\n",
        "        print(f\"Iteration {i}: Cost {loss_history[i]} \",\n",
        "          f\"w: {large_parameters_history[i][0]}, b:{large_parameters_history[i][1]}\")"
      ],
      "metadata": {
        "colab": {
          "base_uri": "https://localhost:8080/"
        },
        "id": "xTwLeE_oPIcm",
        "outputId": "1aebbb5d-4164-4bc0-c4d2-843fd46c21bc"
      },
      "execution_count": null,
      "outputs": [
        {
          "output_type": "stream",
          "name": "stdout",
          "text": [
            "Iteration 0: Cost 355.1763602625152  w: 1.120784420306261, b:0.3070108695695652\n",
            "Iteration 10: Cost 27.308559902331055  w: 6.370046343785628, b:1.7536601776523306\n",
            "Iteration 20: Cost 12.726902827600725  w: 7.473675750625637, b:2.0707972456964425\n",
            "Iteration 30: Cost 12.076098704858447  w: 7.703110114175876, b:2.1497470771514613\n",
            "Iteration 40: Cost 12.044757895761455  w: 7.748202903920325, b:2.178464862562739\n",
            "Iteration 50: Cost 12.040964705758041  w: 7.7544246696454335, b:2.1965850282451864\n",
            "Iteration 60: Cost 12.038398501103643  w: 7.752451027943868, b:2.2124653538638155\n",
            "Iteration 70: Cost 12.03588888415947  w: 7.748750596602785, b:2.2278682604981777\n",
            "Iteration 80: Cost 12.033383809303517  w: 7.744687423243699, b:2.2431653949744255\n",
            "Iteration 90: Cost 12.03088096051727  w: 7.740549146273563, b:2.258435129234017\n"
          ]
        }
      ]
    },
    {
      "cell_type": "markdown",
      "source": [],
      "metadata": {
        "id": "b5ORQGWUPbRR"
      }
    },
    {
      "cell_type": "code",
      "source": [
        "print(len(large_loss_history))"
      ],
      "metadata": {
        "colab": {
          "base_uri": "https://localhost:8080/"
        },
        "id": "zQ_PNw1XP1RL",
        "outputId": "2086f4fa-7dbc-4a06-ad9e-e9ee66adcc17"
      },
      "execution_count": null,
      "outputs": [
        {
          "output_type": "stream",
          "name": "stdout",
          "text": [
            "1000000\n"
          ]
        }
      ]
    },
    {
      "cell_type": "code",
      "source": [
        "cut_point = len(large_loss_history)-100\n",
        "\n",
        "fig, (ax1, ax2) = plt.subplots(1, 2, figsize=(12,4))\n",
        "ax1.plot(large_loss_history[:cut_point])\n",
        "ax2.plot(cut_point + np.arange(len(large_loss_history[cut_point :])), large_loss_history[cut_point:])\n",
        "\n",
        "\n",
        "ax1.set_title(\"loss vs. iteration(start)\")\n",
        "ax2.set_title(\"loss vs. iteration (end)\")\n",
        "ax1.set_ylabel('Cost')            ;  ax2.set_ylabel('loss')\n",
        "ax1.set_xlabel('iteration step')  ;  ax2.set_xlabel('iteration step')\n",
        "plt.show()\n"
      ],
      "metadata": {
        "colab": {
          "base_uri": "https://localhost:8080/",
          "height": 263
        },
        "id": "onih3WNsPF67",
        "outputId": "b8614af8-de76-48d6-f8be-9560d92a06fd"
      },
      "execution_count": null,
      "outputs": [
        {
          "output_type": "display_data",
          "data": {
            "text/plain": [
              "<Figure size 1200x400 with 2 Axes>"
            ],
            "image/png": "[encoded data removed]"
          },
          "metadata": {}
        }
      ]
    },
    {
      "cell_type": "markdown",
      "source": [
        "It appears that the loss value does not change after the iterations. Let's check r-square"
      ],
      "metadata": {
        "id": "tKVghswvRUiJ"
      }
    },
    {
      "cell_type": "code",
      "source": [
        "large_r_squared_value = calculate_r_squared(large_w_optimal, large_b_optimal,x, y)\n",
        "print(large_r_squared_value)"
      ],
      "metadata": {
        "colab": {
          "base_uri": "https://localhost:8080/"
        },
        "id": "gyLQNOyDPM46",
        "outputId": "e153e741-cd7f-47a7-e706-49a8415ecc73"
      },
      "execution_count": null,
      "outputs": [
        {
          "output_type": "stream",
          "name": "stdout",
          "text": [
            "0.01444670041848961\n"
          ]
        }
      ]
    },
    {
      "cell_type": "markdown",
      "source": [
        "\n",
        "It is slightly better. As I mentioned, since our model has converged, this would be the best value we can obtain through training."
      ],
      "metadata": {
        "id": "Vb72WipyRaWE"
      }
    },
    {
      "cell_type": "markdown",
      "source": [
        "## Testing: Model's Generazlability\n",
        "\n",
        "Can we actually ensure that the model predicts unseen examples? We have more data that we haven't included in the test set.\n",
        "\n",
        "| City           | Strip Club Rating | James Harden's Performance |\n",
        "| -------------- | ----------------- | -------------------------- |\n",
        "| Oklahoma City  | 3.76              | 25.125                     |\n",
        "| Charlotte      | 3.31              | 24.75                      |\n",
        "| Orlando        | 3.75              | 39.25                      |\n",
        "| Orlando        | 3.94              | 28.625                     |\n",
        "| San Francisco  | 3.5               | 32.75                      |\n",
        "\n"
      ],
      "metadata": {
        "id": "3pioBZyiCIbA"
      }
    },
    {
      "cell_type": "code",
      "source": [
        "test_x = np.array([3.76, 3.31, 3.75, 3.94, 3.5])\n",
        "test_y = np.array([25.125, 24.75, 39.25, 28.625, 32.75])"
      ],
      "metadata": {
        "id": "OVYdpC7BOR7x"
      },
      "execution_count": null,
      "outputs": []
    },
    {
      "cell_type": "code",
      "source": [
        "test_r_squared_value = calculate_r_squared(large_w_optimal, large_b_optimal,test_x, test_y)\n",
        "print(test_r_squared_value )"
      ],
      "metadata": {
        "colab": {
          "base_uri": "https://localhost:8080/"
        },
        "id": "ceusZqkESYQ6",
        "outputId": "fd70cfe8-50ba-4157-bcdf-a32e34f8540d"
      },
      "execution_count": null,
      "outputs": [
        {
          "output_type": "stream",
          "name": "stdout",
          "text": [
            "-0.058751979900992124\n"
          ]
        }
      ]
    },
    {
      "cell_type": "markdown",
      "source": [
        "## Things to consider\n",
        "\n",
        "Can we say our model perform well? It did not predict well. What would be the problem? If you are a scout, would you want to apply such a model to scout sports players? Probably not. What would be our problems in this task?\n",
        "\n",
        "Let's consider the following questions.\n"
      ],
      "metadata": {
        "id": "ORED3axaxgZP"
      }
    },
    {
      "cell_type": "markdown",
      "source": [
        "1. We simplified the model by considering only one feature. Do you think that is sufficient? If not, what other factors could you consider?\n",
        "\n",
        "\n",
        "\n",
        "> Considering only one feature may not be sufficient to accurately predict James Harden's performance in NBA games. His performance can be influenced by various factors, including the quality of the opposing team, game conditions, and his physical condition. In our analysis, we only considered the average rating in the city, and while there was a correlation (as the reddit user analyzed), we cannot ensure that it actually affected his performance. Therefore, the validity of the model is not achieved. To build a more robust and reliable model, it would be beneficial to include additional relevant features in the analysis.\n",
        "\n",
        "\n",
        "\n",
        "2.We simplified the model using linear regression. Even tough we include more factors as input features to improve the model, can we assume that this features and James's performance are linearly related? What alternative approaches could be considered besides linear regression?\n",
        "\n",
        "> Linear regression assumes a linear relationship between the input features and the target variables. Even though we would include more factors as input features to improve the model, assuming linear relationships between these features and James Harden's performance may not be appropriate In real world, the relationships among factors are  more complex. The James Harden's cases might not be an exception. Therefore, it is too risky to assume a lieanr relationship between the average rating of strip clubs (or even other features) in a city and his performance.  \n",
        "\n",
        "> To explore this complexity, an alternative approach could be using neural networks, which is covered in our class. With neural networks, we can allow the model to learn complex mappings between input features and James Harden's performance. Neural networks can automatically adapt and discover intricate patterns between input features and targets, potentially providing a more accurate representation of the underlying dynamics among varaibles which influencing James Harden;s performance.\n",
        "\n",
        "\n",
        "\n",
        "\n",
        "\n",
        "\n"
      ],
      "metadata": {
        "id": "2Ppo1F3kEyk9"
      }
    }
  ]
}
